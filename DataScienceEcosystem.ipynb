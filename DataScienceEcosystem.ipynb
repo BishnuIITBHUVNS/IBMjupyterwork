{
 "cells": [
  {
   "cell_type": "markdown",
   "id": "47c1e7c9-dc5e-4269-9e1e-5ebe8c5c4d0e",
   "metadata": {},
   "source": [
    "# DATA SCIENCE TOOLS AND ECOSYSTEM\n"
   ]
  },
  {
   "cell_type": "markdown",
   "id": "a414f1e5-1d94-430b-bc04-a84467d4391d",
   "metadata": {},
   "source": [
    "## In this notebook, Data science tools and Ecosystems are summarized\n"
   ]
  },
  {
   "cell_type": "markdown",
   "id": "6f345706-c573-4596-b5cd-dfc14c135607",
   "metadata": {},
   "source": [
    "# DATA SCIENCE LANGUAGE\n",
    "\n",
    "## Some Of The Popular Data Science Languages that Data Scientists use are :\n",
    "1. Python\n",
    "2. R\n",
    "3. Julia"
   ]
  },
  {
   "cell_type": "markdown",
   "id": "5759eca2-af7c-4a9b-8f8d-9d740e5137d2",
   "metadata": {},
   "source": [
    "# DATA SCIENCE LIBRARIES\n",
    "## Some of the commonly used libraries used by Data Scientists include:\n",
    "1. Matplotlib\n",
    "2. Scikit\n",
    "3. numpy\n",
    "4. pandas"
   ]
  },
  {
   "cell_type": "markdown",
   "id": "f4b9c635-7087-4fbe-a759-fcb60fae8125",
   "metadata": {},
   "source": [
    "# DATA SCIENCE TOOLS\n",
    "|Column 1|column 2|column 3|\r\n",
    "|:------------:-|:--------::|---------:|\r\n",
    "|tensorflow1   pytorch   scikitlearn 1   |\r\n",
    "apache zepellin 2   watson studiow 2   Jupyterlab 2   |\r",
    "Anacondaow 3  Githubow 3  ML floww 3   |"
   ]
  },
  {
   "cell_type": "markdown",
   "id": "5948089e-0f36-43c1-9349-11104e2a1c80",
   "metadata": {},
   "source": [
    "# Arithmetic Expression Examples\n",
    "## Below are a few examples of evaluating arithmetic expressions in Python:"
   ]
  },
  {
   "cell_type": "code",
   "execution_count": 14,
   "id": "3ba73c02-7c1a-45bd-8dc4-c7475c01bc21",
   "metadata": {},
   "outputs": [
    {
     "data": {
      "text/plain": [
       "17"
      ]
     },
     "execution_count": 14,
     "metadata": {},
     "output_type": "execute_result"
    }
   ],
   "source": [
    "(3*4)+5"
   ]
  },
  {
   "cell_type": "code",
   "execution_count": 18,
   "id": "dca9781e-18ab-44a8-b41e-dd79862a17b8",
   "metadata": {},
   "outputs": [
    {
     "name": "stdout",
     "output_type": "stream",
     "text": [
      "3.3333333333333335\n"
     ]
    }
   ],
   "source": [
    "#This will convert 200 minutes to hours by diving by 60\n",
    "minutes=200/60\n",
    "print(minutes)"
   ]
  },
  {
   "cell_type": "markdown",
   "id": "844585a7-2837-4a99-9b82-b8201bdd45aa",
   "metadata": {},
   "source": [
    "# Objectives of this lab\n",
    "## OBJECTIVES:\n",
    "- listing data science tools\n",
    "- arithmetic expression evaluation\n",
    "- listing data science libraries"
   ]
  },
  {
   "cell_type": "markdown",
   "id": "8c1408ec-624d-4bc5-b9fe-4d61ab6bcccf",
   "metadata": {},
   "source": [
    "# Author Details\n",
    "## Author\n",
    "Bishnu Vimal Jha"
   ]
  },
  {
   "cell_type": "code",
   "execution_count": null,
   "id": "0c60c014-781d-4ec1-a87f-bf589d6d92a7",
   "metadata": {},
   "outputs": [],
   "source": []
  }
 ],
 "metadata": {
  "kernelspec": {
   "display_name": "Python 3 (ipykernel)",
   "language": "python",
   "name": "python3"
  },
  "language_info": {
   "codemirror_mode": {
    "name": "ipython",
    "version": 3
   },
   "file_extension": ".py",
   "mimetype": "text/x-python",
   "name": "python",
   "nbconvert_exporter": "python",
   "pygments_lexer": "ipython3",
   "version": "3.12.4"
  }
 },
 "nbformat": 4,
 "nbformat_minor": 5
}
